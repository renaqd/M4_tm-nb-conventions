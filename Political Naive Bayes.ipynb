{
 "cells": [
  {
   "cell_type": "markdown",
   "metadata": {},
   "source": [
    "## Naive Bayes on Political Text\n",
    "\n",
    "In this notebook we use Naive Bayes to explore and classify political data. See the `README.md` for full details."
   ]
  },
  {
   "cell_type": "code",
   "execution_count": 1,
   "metadata": {},
   "outputs": [],
   "source": [
    "import sqlite3\n",
    "import nltk\n",
    "import random\n",
    "import numpy as np\n",
    "from collections import Counter, defaultdict\n",
    "\n",
    "# Feel free to include your text patterns functions\n",
    "#from text_functions_solutions import clean_tokenize, get_patterns\n",
    "import re\n",
    "import string\n",
    "from string import punctuation\n",
    "from nltk.tokenize import word_tokenize\n",
    "from nltk.corpus import stopwords\n",
    "\n",
    "# Define constants\n",
    "punctuation = set(string.punctuation) - {\"#\"}\n",
    "sw = set(stopwords.words(\"english\"))\n",
    "whitespace_pattern = re.compile(r\"\\s+\")\n",
    "unwanted_tokens = {\"nan\", \"null\"}\n",
    "\n",
    "# Defne clean_tokenize instead of import\n",
    "def clean_tokenize(text: str) -> str:\n",
    "    \"\"\"Clean and tokenize text by removing punctuation, stopwords, and unwanted tokens.\"\"\"\n",
    "    \n",
    "    # Convert to lowercase and normalize quotes\n",
    "    text = text.lower().replace(\"’\", \"'\").replace(\"‘\", \"'\").replace(\"“\", '\"').replace(\"”\", '\"')\n",
    "\n",
    "    # Remove punctuation (except hashtags)\n",
    "    text = \"\".join(ch for ch in text if ch not in punctuation)\n",
    "\n",
    "    # Tokenize (split on whitespace)\n",
    "    tokens = whitespace_pattern.split(text.strip())\n",
    "\n",
    "    # Remove stopwords and unwanted tokens\n",
    "    tokens = [token for token in tokens if token and token not in sw and token not in unwanted_tokens]\n",
    "\n",
    "    return ' '.join(tokens)\n",
    "    \n",
    "#from text_functions_solutions import clean_tokenize, get_patterns"
   ]
  },
  {
   "cell_type": "markdown",
   "metadata": {},
   "source": [
    "DB files from canvas:\n",
    "* 2020_Conventions.db\n",
    "* congressional_data.db"
   ]
  },
  {
   "cell_type": "code",
   "execution_count": 2,
   "metadata": {},
   "outputs": [],
   "source": [
    "convention_db = sqlite3.connect(\"2020_Conventions.db\")\n",
    "convention_cur = convention_db.cursor()"
   ]
  },
  {
   "cell_type": "code",
   "execution_count": 3,
   "metadata": {},
   "outputs": [
    {
     "name": "stdout",
     "output_type": "stream",
     "text": [
      "\n",
      "Tables in the database:\n",
      "[('conventions',)]\n",
      "\n",
      "Table schema:\n",
      "[(0, 'party', 'TEXT', 0, None, 0), (1, 'night', 'INTEGER', 0, None, 0), (2, 'speaker', 'TEXT', 0, None, 0), (3, 'speaker_count', 'INTEGER', 0, None, 0), (4, 'time', 'TEXT', 0, None, 0), (5, 'text', 'TEXT', 0, None, 0), (6, 'text_len', 'TEXT', 0, None, 0), (7, 'file', 'TEXT', 0, None, 0)]\n",
      "\n",
      "Sample row:\n",
      "[('Democratic', 4, 'Unknown', 1, '00:00', 'Skip to content The Company Careers Press Freelancers Blog × Services Transcription Captions Foreign Subtitles Translation Freelancers About Contact Login « Return to Transcript Library home  Transcript Categories  All Transcripts 2020 Election Transcripts Classic Speech Transcripts Congressional Testimony & Hearing Transcripts Debate Transcripts Donald Trump Transcripts Entertainment Transcripts Financial Transcripts Interview Transcripts Political Transcripts Press Conference Transcripts Speech Transcripts Sports Transcripts Technology Transcripts Aug 21, 2020 2020 Democratic National Convention (DNC) Night 4 Transcript Rev  ›  Blog  ›  Transcripts  › 2020 Election Transcripts  ›  2020 Democratic National Convention (DNC) Night 4 Transcript Night 4 of the 2020 Democratic National Convention (DNC) on August 20. Read the full transcript of the event here. Transcribe Your Own Content  Try Rev for free  and save time transcribing, captioning, and subtitling.', '127', 'www_rev_com_blog_transcripts2020-democratic-national-convention-dnc-night-4-transcript.txt')]\n"
     ]
    }
   ],
   "source": [
    "# Show all tables\n",
    "convention_cur.execute(\"SELECT name FROM sqlite_master WHERE type='table';\")\n",
    "print(\"\\nTables in the database:\")\n",
    "print(convention_cur.fetchall())\n",
    "\n",
    "# Show schema of the table\n",
    "convention_cur.execute(\"PRAGMA table_info(conventions);\")\n",
    "print(\"\\nTable schema:\")\n",
    "print(convention_cur.fetchall())\n",
    "\n",
    "# Show a sample row\n",
    "convention_cur.execute(\"SELECT * FROM conventions LIMIT 1;\")\n",
    "print(\"\\nSample row:\")\n",
    "print(convention_cur.fetchall())"
   ]
  },
  {
   "cell_type": "markdown",
   "metadata": {},
   "source": [
    "### Part 1: Exploratory Naive Bayes\n",
    "\n",
    "We'll first build a NB model on the convention data itself, as a way to understand what words distinguish between the two parties. This is analogous to what we did in the \"Comparing Groups\" class work. First, pull in the text \n",
    "for each party and prepare it for use in Naive Bayes.  "
   ]
  },
  {
   "cell_type": "code",
   "execution_count": 4,
   "metadata": {},
   "outputs": [],
   "source": [
    "convention_data = []\n",
    "\n",
    "# fill this list up with items that are themselves lists. The \n",
    "# first element in the sublist should be the cleaned and tokenized\n",
    "# text in a single string. The second element should be the party. \n",
    "\n",
    "query_results = convention_cur.execute(\n",
    "                            '''\n",
    "                            -- your query here\n",
    "                            SELECT text, party\n",
    "                            FROM conventions\n",
    "                            -- Remove the party \"Other\". \n",
    "                            WHERE party != 'Other'\n",
    "                            ''')\n",
    "\n",
    "for row in query_results :\n",
    "    # store the results in convention_data\n",
    "    # pass # remove this\n",
    "    text, party = row\n",
    "    # Clean and tokenize the speech text\n",
    "    cleaned_text = clean_tokenize(text)\n",
    "    convention_data.append([cleaned_text, party])"
   ]
  },
  {
   "cell_type": "code",
   "execution_count": 5,
   "metadata": {},
   "outputs": [],
   "source": [
    "# it's a best practice to close up your DB connection when you're done\n",
    "convention_db.close()"
   ]
  },
  {
   "cell_type": "markdown",
   "metadata": {},
   "source": [
    "Let's look at some random entries and see if they look right. "
   ]
  },
  {
   "cell_type": "code",
   "execution_count": 6,
   "metadata": {},
   "outputs": [
    {
     "data": {
      "text/plain": [
       "[['freedom right good family reap blessings hard work accomplish dreams live securely help others force government goodness heart rights granted government claimed identities unalienable members human race today americas greatness challenged extreme notions defunding law enforcement lawlessness abounds hateful rhetoric telling wear work limiting free speech freedom worship old ideas socialism repackaged redefined words let us restore values made america great',\n",
       "  'Republican'],\n",
       " ['gathered beautiful majestic white house known world peoples house cannot help marvel miracle great american story home larger life figures like teddy roosevelt andrew jackson rallied americans bold visions bigger brighter future within walls lived tenacious generals like president grant eisenhower led soldiers course freedom grounds thomas jefferson sent lewis clark daring expedition cross wild uncharted continent depths bloody civil war president abraham lincoln looked windows upon halfcompleted washington monument asked god providence save nation two weeks pearl harbor franklin delano roosevelt welcomed winston churchill inside set people course victory second world war',\n",
       "  'Republican'],\n",
       " ['georgia', 'Republican'],\n",
       " ['guam', 'Republican'],\n",
       " ['enemies', 'Republican'],\n",
       " ['hi eva well weve already started school little challenging every day something seems change start one way one day change next day know right kind sad see kiddos back know change going adapt persevere honestly right think keeping kiddo safe know back march home okay theyre wanting us back school little scary uprise covid cases',\n",
       "  'Democratic'],\n",
       " ['serious storm urge affected areas heed state local authorities stay safe know well every step way support rescue respond recover days weeks ahead thats americans four years ago answered call join ticket knew donald trump leadership vision make america great last four years ive watched president endure unrelenting attacks get every day fight keep promises made american people gratitude confidence president donald trump placed support republican party grace god humbly accept nomination run serve vice president united states serving american people office journey never expected journey would possible without support family beginning wonderful wife karen shes lifelong school teacher incredible mother three children one outstanding second lady united states im proud couldnt proud three children marine corps captain michael j pence wife sarah daughter charlotte pence bond author wife lieutenant henry bond currently deployed serving nation united states navy youngest recent law school grad daughter audrey fiance like many americans delay wedding summer cant wait dan part family addition wife kids person shaped life also us tonight mom nancy daughter irish immigrant 87 years young mom follows politics closely truth told sometimes think im actually second favorite candidate trumppence ticket thank mom love past four years ive privilege work closely president ive seen cameras americans see president trump lots different ways theres doubt president trump sees america sees america nation done good world nation deserves far gratitude grievance want president falls silent heritage demeaned insulted hes man came different routes partnership people think little bit different ive learned things watching watching deal weve past four years things way terms much gets past opinion hes liable share certainly kept things interesting importantly president donald trump kept word american people city known talkers president trump doer presidents brought independence energy determination office four years ago inherited military hollowed devastating budget cuts economy struggling break slowest recovery since great depression isis controlled land mass twice size pennsylvania',\n",
       "  'Republican'],\n",
       " ['woman many firsts', 'Democratic'],\n",
       " ['liberals want eliminate school choice enroll children finest private schools land want open borders living waldorf compounds communities best neighborhoods world want defund police armed guards november must turn page forever failed political class fact im whats name building ill say differently fact theyre one beautiful buildings anywhere world building home far im concerned',\n",
       "  'Republican'],\n",
       " ['baltimore highest number black republicans entire country running office election cycle joe biden believes cant think color someones skin dictates political views buying lies anymore party neglected us far long want safety neighborhoods want make federal opportunity zone im standing right west baltimore want higher paying jobs business opportunities want lower taxes want school choice want chance get ahead get thats president trump promised thats president trump delivered want baltimore example republicans around country compete inner cities reach citizens deliver real results',\n",
       "  'Republican']]"
      ]
     },
     "execution_count": 6,
     "metadata": {},
     "output_type": "execute_result"
    }
   ],
   "source": [
    "random.choices(convention_data,k=10)"
   ]
  },
  {
   "cell_type": "markdown",
   "metadata": {},
   "source": [
    "If that looks good, we now need to make our function to turn these into features. In my solution, I wanted to keep the number of features reasonable, so I only used words that occur at least `word_cutoff` times. Here's the code to test that if you want it. "
   ]
  },
  {
   "cell_type": "code",
   "execution_count": 7,
   "metadata": {},
   "outputs": [
    {
     "name": "stdout",
     "output_type": "stream",
     "text": [
      "With a word cutoff of 5, we have 2385 as features in the model.\n"
     ]
    }
   ],
   "source": [
    "word_cutoff = 5\n",
    "\n",
    "tokens = [w for t, p in convention_data for w in t.split()]\n",
    "\n",
    "word_dist = nltk.FreqDist(tokens)\n",
    "\n",
    "feature_words = set()\n",
    "\n",
    "for word, count in word_dist.items() :\n",
    "    if count > word_cutoff :\n",
    "        feature_words.add(word)\n",
    "        \n",
    "print(f\"With a word cutoff of {word_cutoff}, we have {len(feature_words)} as features in the model.\")"
   ]
  },
  {
   "cell_type": "code",
   "execution_count": 8,
   "metadata": {},
   "outputs": [],
   "source": [
    "def conv_features(text,fw) :\n",
    "    \"\"\"Given some text, this returns a dictionary holding the\n",
    "       feature words.\n",
    "       \n",
    "       Args: \n",
    "            * text: a piece of text in a continuous string. Assumes\n",
    "            text has been cleaned and case folded.\n",
    "            * fw: the *feature words* that we're considering. A word \n",
    "            in `text` must be in fw in order to be returned. This \n",
    "            prevents us from considering very rarely occurring words.\n",
    "        \n",
    "       Returns: \n",
    "            A dictionary with the words in `text` that appear in `fw`. \n",
    "            Words are only counted once. \n",
    "            If `text` were \"quick quick brown fox\" and `fw` = {'quick','fox','jumps'},\n",
    "            then this would return a dictionary of \n",
    "            {'quick' : True,\n",
    "             'fox' :    True}\n",
    "        \n",
    "    \"\"\"\n",
    "    \n",
    "    # Your code here\n",
    "    # Split text into unique words\n",
    "    words = set(text.split())\n",
    "\n",
    "    # Create dictionary of words that appear in feature words\n",
    "    ret_dict = {word: True for word in words if word in fw}\n",
    "    \n",
    "    return(ret_dict)"
   ]
  },
  {
   "cell_type": "code",
   "execution_count": 9,
   "metadata": {},
   "outputs": [],
   "source": [
    "assert(len(feature_words)>0)\n",
    "assert(conv_features(\"donald is the president\",feature_words)==\n",
    "       {'donald':True,'president':True})\n",
    "assert(conv_features(\"people are american in america\",feature_words)==\n",
    "                     {'america':True,'american':True,\"people\":True})"
   ]
  },
  {
   "cell_type": "markdown",
   "metadata": {},
   "source": [
    "Now we'll build our feature set. Out of curiosity I did a train/test split to see how accurate the classifier was, but we don't strictly need to since this analysis is exploratory. "
   ]
  },
  {
   "cell_type": "code",
   "execution_count": 10,
   "metadata": {},
   "outputs": [],
   "source": [
    "featuresets = [(conv_features(text,feature_words), party) for (text, party) in convention_data]"
   ]
  },
  {
   "cell_type": "code",
   "execution_count": 11,
   "metadata": {},
   "outputs": [],
   "source": [
    "random.seed(20220507)\n",
    "random.shuffle(featuresets)\n",
    "\n",
    "test_size = 500"
   ]
  },
  {
   "cell_type": "code",
   "execution_count": 12,
   "metadata": {},
   "outputs": [
    {
     "name": "stdout",
     "output_type": "stream",
     "text": [
      "0.498\n"
     ]
    }
   ],
   "source": [
    "test_set, train_set = featuresets[:test_size], featuresets[test_size:]\n",
    "classifier = nltk.NaiveBayesClassifier.train(train_set)\n",
    "print(nltk.classify.accuracy(classifier, test_set))"
   ]
  },
  {
   "cell_type": "code",
   "execution_count": 13,
   "metadata": {},
   "outputs": [
    {
     "name": "stdout",
     "output_type": "stream",
     "text": [
      "Most Informative Features\n",
      "                   china = True           Republ : Democr =     25.8 : 1.0\n",
      "                   votes = True           Democr : Republ =     23.8 : 1.0\n",
      "             enforcement = True           Republ : Democr =     21.5 : 1.0\n",
      "                 destroy = True           Republ : Democr =     19.2 : 1.0\n",
      "                freedoms = True           Republ : Democr =     18.2 : 1.0\n",
      "                 climate = True           Democr : Republ =     17.8 : 1.0\n",
      "                supports = True           Republ : Democr =     17.1 : 1.0\n",
      "                   crime = True           Republ : Democr =     16.1 : 1.0\n",
      "                   media = True           Republ : Democr =     14.9 : 1.0\n",
      "                 beliefs = True           Republ : Democr =     13.0 : 1.0\n",
      "               countries = True           Republ : Democr =     13.0 : 1.0\n",
      "                 defense = True           Republ : Democr =     13.0 : 1.0\n",
      "                  defund = True           Republ : Democr =     13.0 : 1.0\n",
      "                    isis = True           Republ : Democr =     13.0 : 1.0\n",
      "                 liberal = True           Republ : Democr =     13.0 : 1.0\n",
      "                religion = True           Republ : Democr =     13.0 : 1.0\n",
      "                   trade = True           Republ : Democr =     12.7 : 1.0\n",
      "                    flag = True           Republ : Democr =     12.1 : 1.0\n",
      "               greatness = True           Republ : Democr =     12.1 : 1.0\n",
      "                 abraham = True           Republ : Democr =     11.9 : 1.0\n",
      "                    drug = True           Republ : Democr =     10.9 : 1.0\n",
      "              department = True           Republ : Democr =     10.9 : 1.0\n",
      "               destroyed = True           Republ : Democr =     10.9 : 1.0\n",
      "                   enemy = True           Republ : Democr =     10.9 : 1.0\n",
      "               amendment = True           Republ : Democr =     10.3 : 1.0\n"
     ]
    }
   ],
   "source": [
    "classifier.show_most_informative_features(25)"
   ]
  },
  {
   "cell_type": "markdown",
   "metadata": {},
   "source": [
    "Write a little prose here about what you see in the classifier. Anything odd or interesting?\n",
    "\n",
    "### My Observations\n",
    "\n",
    "<i class=\"fa fa-exclamation-triangle\"></i> _The classifier shows differences in party rhetoric even though it does not perform well in predicting party affiliation. Its accuracy is less than 50%, making it no better than random guessing. The informative features indicate that Republican-associated words include \"China,\" \"freedoms,\" and \"destroy,\" reflecting a focus on international relations, conservative views, and opposition. Meanwhile, Democratic-associated words include \"votes\" and \"climate,\" suggesting an emphasis on voting rights and environmental issues._\n",
    "\n"
   ]
  },
  {
   "cell_type": "markdown",
   "metadata": {},
   "source": [
    "## Part 2: Classifying Congressional Tweets\n",
    "\n",
    "In this part we apply the classifer we just built to a set of tweets by people running for congress\n",
    "in 2018. These tweets are stored in the database `congressional_data.db`. That DB is funky, so I'll\n",
    "give you the query I used to pull out the tweets. Note that this DB has some big tables and \n",
    "is unindexed, so the query takes a minute or two to run on my machine."
   ]
  },
  {
   "cell_type": "code",
   "execution_count": 14,
   "metadata": {},
   "outputs": [],
   "source": [
    "cong_db = sqlite3.connect(\"congressional_data.db\")\n",
    "cong_cur = cong_db.cursor()"
   ]
  },
  {
   "cell_type": "code",
   "execution_count": 15,
   "metadata": {},
   "outputs": [
    {
     "name": "stdout",
     "output_type": "stream",
     "text": [
      "\n",
      "Tables in the database:\n",
      "[('websites',), ('candidate_data',), ('tweets',)]\n",
      "\n",
      "Table schema:\n",
      "[(0, 'index', 'INTEGER', 0, None, 0), (1, 'student', 'TEXT', 0, None, 0), (2, 'state', 'TEXT', 0, None, 0), (3, 'district_num', 'TEXT', 0, None, 0), (4, 'formatted_dist_num', 'INTEGER', 0, None, 0), (5, 'abbrev', 'TEXT', 0, None, 0), (6, 'district', 'TEXT', 0, None, 0), (7, 'candidate', 'TEXT', 0, None, 0), (8, 'party', 'TEXT', 0, None, 0), (9, 'website', 'TEXT', 0, None, 0), (10, 'twitter_handle', 'TEXT', 0, None, 0), (11, 'incumbent', 'TEXT', 0, None, 0), (12, 'age', 'REAL', 0, None, 0), (13, 'gender', 'TEXT', 0, None, 0), (14, 'marital_status', 'TEXT', 0, None, 0), (15, 'white_non_hispanic', 'TEXT', 0, None, 0), (16, 'hispanic', 'TEXT', 0, None, 0), (17, 'black', 'TEXT', 0, None, 0), (18, 'partisian_lean_pvi', 'TEXT', 0, None, 0), (19, 'opposed', 'TEXT', 0, None, 0), (20, 'pct_urban', 'TEXT', 0, None, 0), (21, 'income', 'REAL', 0, None, 0), (22, 'region', 'TEXT', 0, None, 0)]\n",
      "\n",
      "Sample row:\n",
      "[(0, 'alex', 'Alabama', '5', 5, 'AL', 'AL05', 'Mo Brooks', 'Republican', 'https://brooks.house.gov/', 'RepMoBrooks', 'T', 64.0, 'M', 'Married', 'T', 'F', 'F', 'R+18', 'T', '65.53', 51960.0, 'S')]\n"
     ]
    }
   ],
   "source": [
    "# Show all tables\n",
    "cong_cur.execute(\"SELECT name FROM sqlite_master WHERE type='table';\")\n",
    "print(\"\\nTables in the database:\")\n",
    "print(cong_cur.fetchall())\n",
    "\n",
    "# Show schema of the table\n",
    "cong_cur.execute(\"PRAGMA table_info(candidate_data);\")\n",
    "print(\"\\nTable schema:\")\n",
    "print(cong_cur.fetchall())\n",
    "\n",
    "# Show a sample row\n",
    "cong_cur.execute(\"SELECT * FROM candidate_data LIMIT 1;\")\n",
    "print(\"\\nSample row:\")\n",
    "print(cong_cur.fetchall())"
   ]
  },
  {
   "cell_type": "code",
   "execution_count": 16,
   "metadata": {},
   "outputs": [],
   "source": [
    "results = cong_cur.execute(\n",
    "        '''\n",
    "           SELECT DISTINCT \n",
    "                  cd.candidate, \n",
    "                  cd.party,\n",
    "                  tw.tweet_text\n",
    "           FROM candidate_data cd \n",
    "           INNER JOIN tweets tw ON cd.twitter_handle = tw.handle \n",
    "               AND cd.candidate == tw.candidate \n",
    "               AND cd.district == tw.district\n",
    "           WHERE cd.party in ('Republican','Democratic') \n",
    "               AND tw.tweet_text NOT LIKE '%RT%'\n",
    "        ''')\n",
    "\n",
    "results = list(results) # Just to store it, since the query is time consuming\n",
    "cong_db.close() # Close DB connection"
   ]
  },
  {
   "cell_type": "code",
   "execution_count": 17,
   "metadata": {},
   "outputs": [
    {
     "name": "stdout",
     "output_type": "stream",
     "text": [
      "Total number of results: 664656\n",
      "Sample row format: ('Mo Brooks', 'Republican', b'\"Brooks Joins Alabama Delegation in Voting Against Flawed Funding Bill\" http://t.co/3CwjIWYsNq')\n"
     ]
    }
   ],
   "source": [
    "print(f\"Total number of results: {len(results)}\")\n",
    "print(\"Sample row format:\", results[0] if results else \"No results\")"
   ]
  },
  {
   "cell_type": "code",
   "execution_count": 18,
   "metadata": {},
   "outputs": [],
   "source": [
    "tweet_data = []\n",
    "\n",
    "# Now fill up tweet_data with sublists like we did on the convention speeches.\n",
    "for candidate, party, tweet_text in results:\n",
    "    # Convert bytes to string if needed\n",
    "    if isinstance(tweet_text, bytes):\n",
    "        tweet_text = tweet_text.decode('utf-8')\n",
    "    cleaned_text = clean_tokenize(tweet_text) # Clean and tokenize\n",
    "    if cleaned_text:  # Skip empty tweets\n",
    "        tweet_data.append([cleaned_text, party])\n",
    "# Note that this may take a bit of time, since we have a lot of tweets."
   ]
  },
  {
   "cell_type": "markdown",
   "metadata": {},
   "source": [
    "There are a lot of tweets here. Let's take a random sample and see how our classifer does. I'm guessing it won't be too great given the performance on the convention speeches..."
   ]
  },
  {
   "cell_type": "code",
   "execution_count": 19,
   "metadata": {},
   "outputs": [],
   "source": [
    "random.seed(20201014)\n",
    "\n",
    "tweet_data_sample = random.choices(tweet_data,k=10)"
   ]
  },
  {
   "cell_type": "code",
   "execution_count": 20,
   "metadata": {},
   "outputs": [
    {
     "name": "stdout",
     "output_type": "stream",
     "text": [
      "Here's our (cleaned) tweet: enjoyed meeting giev kashkooli ufw discuss concerns farmworkers #centralcoast httpstcolngptgvtt9\n",
      "Actual party is Democratic and our classifer says Republican.\n",
      "\n",
      "Here's our (cleaned) tweet: good memories yet another outstanding labor day parade #ohio #labor #labordayweekend httpstcou8ads1k1qx\n",
      "Actual party is Democratic and our classifer says Republican.\n",
      "\n",
      "Here's our (cleaned) tweet: apparently trump thinks easy students overwhelmed crushing burden debt pay student loans #trumpbudget httpstcockyqo5t0qh\n",
      "Actual party is Democratic and our classifer says Republican.\n",
      "\n",
      "Here's our (cleaned) tweet: think learn tax dollars fraudulently used fund union activities httptcobtj6etf29h\n",
      "Actual party is Republican and our classifer says Republican.\n",
      "\n",
      "Here's our (cleaned) tweet: lets send message liberal democrats win keep america great raise upset get 😜lets keep donations coming thank 🇺🇸 httpstcolmqixg4vzk\n",
      "Actual party is Republican and our classifer says Republican.\n",
      "\n",
      "Here's our (cleaned) tweet: 1hr cavs tie series 22 im #allin216 repbarbaralee scared #roadtovictory\n",
      "Actual party is Democratic and our classifer says Republican.\n",
      "\n",
      "Here's our (cleaned) tweet: congrats new city council including newcomer chrisjcate look forward working together sd prosperity amp quality life\n",
      "Actual party is Democratic and our classifer says Republican.\n",
      "\n",
      "Here's our (cleaned) tweet: working hard hard working families thanks came help communities stronger httpstconwteaentoy\n",
      "Actual party is Democratic and our classifer says Republican.\n",
      "\n",
      "Here's our (cleaned) tweet: tomorrow deadline trump administration renew #tps nearly 200k salvadorans legally living working united states including 50k ca held press conference roundtable friday urge potus #savetps httpstcoxqrixsbhse\n",
      "Actual party is Democratic and our classifer says Republican.\n",
      "\n",
      "Here's our (cleaned) tweet: celebrated grand opening ranchorehabs donknabe wellness center #downey httpstcoahnuygkzyk\n",
      "Actual party is Democratic and our classifer says Republican.\n",
      "\n"
     ]
    }
   ],
   "source": [
    "\n",
    "for tweet, party in tweet_data_sample :\n",
    "    # Convert tweet to features using conv_features\n",
    "    tweet_features = conv_features(tweet, feature_words)\n",
    "    estimated_party = classifier.classify(tweet_features)\n",
    "    # Fill in the right-hand side above with code that estimates the actual party\n",
    "    \n",
    "    print(f\"Here's our (cleaned) tweet: {tweet}\")\n",
    "    print(f\"Actual party is {party} and our classifer says {estimated_party}.\")\n",
    "    print(\"\")\n",
    "    "
   ]
  },
  {
   "cell_type": "markdown",
   "metadata": {},
   "source": [
    "Now that we've looked at it some, let's score a bunch and see how we're doing."
   ]
  },
  {
   "cell_type": "code",
   "execution_count": 21,
   "metadata": {},
   "outputs": [],
   "source": [
    "# dictionary of counts by actual party and estimated party. \n",
    "# first key is actual, second is estimated\n",
    "parties = ['Republican','Democratic']\n",
    "results = defaultdict(lambda: defaultdict(int))\n",
    "\n",
    "for p in parties :\n",
    "    for p1 in parties :\n",
    "        results[p][p1] = 0\n",
    "\n",
    "\n",
    "num_to_score = 10000\n",
    "random.shuffle(tweet_data)\n",
    "\n",
    "for idx, tp in enumerate(tweet_data) :\n",
    "    tweet, party = tp    \n",
    "    # Now do the same thing as above, but we store the results rather\n",
    "    # than printing them. \n",
    "    tweet_features = conv_features(tweet, feature_words) # Convert tweet to features\n",
    "   \n",
    "    # get the estimated party\n",
    "    estimated_party = classifier.classify(tweet_features)\n",
    "    \n",
    "    results[party][estimated_party] += 1\n",
    "    \n",
    "    if idx > num_to_score : \n",
    "        break"
   ]
  },
  {
   "cell_type": "code",
   "execution_count": 22,
   "metadata": {},
   "outputs": [
    {
     "data": {
      "text/plain": [
       "defaultdict(<function __main__.<lambda>()>,\n",
       "            {'Republican': defaultdict(int,\n",
       "                         {'Republican': 3719, 'Democratic': 566}),\n",
       "             'Democratic': defaultdict(int,\n",
       "                         {'Republican': 4774, 'Democratic': 943})})"
      ]
     },
     "execution_count": 22,
     "metadata": {},
     "output_type": "execute_result"
    }
   ],
   "source": [
    "results"
   ]
  },
  {
   "cell_type": "code",
   "execution_count": 23,
   "metadata": {},
   "outputs": [
    {
     "name": "stdout",
     "output_type": "stream",
     "text": [
      "\n",
      "Confusion Matrix:\n",
      "Actual Party (rows) vs Predicted Party (columns)\n",
      "\t\tPredicted\n",
      "\t\tDem\tRep\n",
      "Actual\n",
      "Dem\t\t943\t4774\n",
      "Rep\t\t566\t3719\n",
      "\n",
      "Overall accuracy: 0.466\n",
      "Republican accuracy: 0.868 (3719/4285)\n",
      "Democratic accuracy: 0.165 (943/5717)\n"
     ]
    }
   ],
   "source": [
    "# Confusion matrix for results\n",
    "print(\"\\nConfusion Matrix:\")\n",
    "print(\"Actual Party (rows) vs Predicted Party (columns)\")\n",
    "print(\"\\t\\tPredicted\")\n",
    "print(\"\\t\\tDem\\tRep\")\n",
    "print(\"Actual\")\n",
    "print(f\"Dem\\t\\t{results['Democratic']['Democratic']}\\t{results['Democratic']['Republican']}\")\n",
    "print(f\"Rep\\t\\t{results['Republican']['Democratic']}\\t{results['Republican']['Republican']}\")\n",
    "\n",
    "# Calculate accuracy metrics\n",
    "total = sum(results[p1][p2] for p1 in parties for p2 in parties)\n",
    "correct = sum(results[p][p] for p in parties)\n",
    "accuracy = correct/total if total > 0 else 0\n",
    "\n",
    "print(f\"\\nOverall accuracy: {accuracy:.3f}\")\n",
    "\n",
    "# Calculate per-party metrics\n",
    "for party in parties:\n",
    "    party_total = sum(results[party].values())\n",
    "    party_correct = results[party][party]\n",
    "    party_accuracy = party_correct/party_total if party_total > 0 else 0\n",
    "    print(f\"{party} accuracy: {party_accuracy:.3f} ({party_correct}/{party_total})\")"
   ]
  },
  {
   "cell_type": "markdown",
   "metadata": {},
   "source": [
    "### Reflections\n",
    "\n",
    "<i class=\"fa fa-exclamation-triangle\"></i> _The overall accuracy is very low at 46%, which is worse than a 50/50 random guess. The classifier can recognize Republican text well, but it struggles with Democratic content. There is a strong bias toward classifying text as Republican. The training data (convention_speech) or the classification method needs improvement for better performance. The classifier is not reliable for distinguishing between the two parties._ "
   ]
  },
  {
   "cell_type": "markdown",
   "metadata": {},
   "source": [
    "#### References\n",
    "\n",
    "Albrecht, J., Ramachandran, S., & Winkler, C. (2020). Blueprints for text analytics using Python. O'Reilly. \n",
    "\n",
    "OpenAI. (2025). ChatGPT (Version 4.0) [AI model]. OpenAI. https://openai.com/chatgpt"
   ]
  }
 ],
 "metadata": {
  "kernelspec": {
   "display_name": "Python 3 (ipykernel)",
   "language": "python",
   "name": "python3"
  },
  "language_info": {
   "codemirror_mode": {
    "name": "ipython",
    "version": 3
   },
   "file_extension": ".py",
   "mimetype": "text/x-python",
   "name": "python",
   "nbconvert_exporter": "python",
   "pygments_lexer": "ipython3",
   "version": "3.9.19"
  }
 },
 "nbformat": 4,
 "nbformat_minor": 4
}
